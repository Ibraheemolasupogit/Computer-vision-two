{
  "cells": [
    {
      "cell_type": "markdown",
      "source": [
        "# 01_Crop_NIFTI.ipynb\n",
        "\n",
        "This is a manual cropping tool for 3D CT scans. \n",
        "\n",
        "This script records the volumn (pixel range) for the region of interest (adrenal glands in this case) and generates `CropArray_CT_NIFTI_full.csv`. `CropArray_CT_NIFTI_full.csv` is then used later for the cropping of the whole dataset in `01_Crop_NIFTI_all.ipynb`.\n",
        "\n",
        "Required files:\n",
        "- `DICOM_Data.csv`\n",
        "\n",
        "Generate:\n",
        "- `CropArray_CT_NIFTI_full.csv`"
      ],
      "metadata": {
        "nteract": {
          "transient": {
            "deleting": false
          }
        }
      }
    },
    {
      "cell_type": "code",
      "source": [
        "import sys\n",
        "repo_dir = <PATH TO THIS REPO> # local path to this repo.\n",
        "sys.path.insert(0, repo_dir)"
      ],
      "outputs": [],
      "execution_count": null,
      "metadata": {
        "jupyter": {
          "source_hidden": false,
          "outputs_hidden": false
        },
        "nteract": {
          "transient": {
            "deleting": false
          }
        }
      }
    },
    {
      "cell_type": "code",
      "source": [
        "import os\n",
        "import pandas as pd\n",
        "import numpy as np\n",
        "import math\n",
        "from os import listdir\n",
        "import glob\n",
        "import itertools\n",
        "import fnmatch\n",
        "import random\n",
        "%matplotlib inline\n",
        "import matplotlib.pylab as plt\n",
        "import seaborn as sns\n",
        "import nibabel as nib\n",
        "import cv2\n",
        "from tqdm import tqdm\n",
        "from PIL import Image\n",
        "\n",
        "pd.set_option(\"display.max_columns\", None)\n",
        "pd.set_option(\"display.max_colwidth\", 100)\n",
        "\n",
        "# utilitiy files located in the src folder\n",
        "from src.util_data import listdir_nohidden\n",
        "from src.util_image import crop_3dimage_n_plot, save_midplane, read_nifti_file, save_crop_3d\n",
        "from src.util_image import normalise\n",
        "from src.util_plot_ct import plot_localizer_from_axial, plot_localizer_crop_line\n",
        "from src.util_plot_ct import plot_3d_ct_axi, plot_3d_ct_sag, plot_3d_ct_cor\n",
        "from src.util_plot_ct import plot_1_cor, plot_1_axi"
      ],
      "outputs": [],
      "execution_count": 1,
      "metadata": {
        "gather": {
          "logged": 1665608043494
        }
      }
    },
    {
      "cell_type": "code",
      "source": [
        "# locating the folder paths used in this script.\n",
        "work_dir = <PATH TO project_dir> # path to the directory of the current project (project master path)\n",
        "data_folder_path = work_dir + 'CT_data/'\n",
        "CT_NIFTI_full_path = data_folder_path + \"CT_NIFTI_full/\"\n",
        "\n",
        "# load the metadata of the dataset.\n",
        "df_dicom = pd.read_csv(data_folder_path+\"DICOM_Data.csv\")"
      ],
      "outputs": [],
      "execution_count": 3,
      "metadata": {
        "gather": {
          "logged": 1665608045085
        }
      }
    },
    {
      "cell_type": "code",
      "source": [
        "# setup the list to record any fail convertions.\n",
        "if os.path.exists(\"CropArray_CT_NIFTI_full.csv\"):\n",
        "    # load the existed crop array and save it to a list\n",
        "    df_CropArray_CT_NIFTI_full = pd.read_csv(\"CropArray_CT_NIFTI_full.csv\",index_col=0)\n",
        "    cropped_list = list(set(df_CropArray_CT_NIFTI_full.filename_nii))\n",
        "else:\n",
        "    # create a empty cropped_list\n",
        "    cropped_list = []"
      ],
      "outputs": [],
      "execution_count": 5,
      "metadata": {
        "jupyter": {
          "source_hidden": false,
          "outputs_hidden": false
        },
        "nteract": {
          "transient": {
            "deleting": false
          }
        },
        "gather": {
          "logged": 1665608046131
        }
      }
    },
    {
      "cell_type": "code",
      "source": [
        "# select which subset of scans to crop.\n",
        "######################## INPUT VALUES ##########################\n",
        "patient_condition = \"normal\" # \"normal\" or \"abnormal\"\n",
        "################################################################\n",
        "\n",
        "condition_group_path = CT_NIFTI_full_path + patient_condition\n",
        "\n",
        "# get a list with all scans that are not processed yet.\n",
        "exist_list = []\n",
        "for i in range(len(listdir_nohidden(condition_group_path))):\n",
        "    current_nii_sample = os.path.basename(listdir_nohidden(condition_group_path)[i])\n",
        "    exist_list.append(current_nii_sample)\n",
        "current_missing_list = list(set(exist_list) - set(cropped_list))"
      ],
      "outputs": [],
      "execution_count": null,
      "metadata": {
        "jupyter": {
          "source_hidden": false,
          "outputs_hidden": false
        },
        "nteract": {
          "transient": {
            "deleting": false
          }
        },
        "gather": {
          "logged": 1665608625483
        }
      }
    },
    {
      "cell_type": "code",
      "source": [
        "# Choice which NIFTI to crop\n",
        "######################## INPUT VALUES ##########################\n",
        "# Un-comment this if selecting from the current_missing_list\n",
        "# nii_sample_to_plot = current_missing_list[scan_i] # replace scan_i to select the element in the list\n",
        "# Un-comment this if selecting from inputing the NIFTI name manually\n",
        "nii_sample_to_plot = <NAME OF THE NIFTI IMAGE> # crop specific scan by name\n",
        "################################################################\n",
        "\n",
        "df_image_metadata = df_dicom[(df_dicom.filename_3d+\".nii\" == nii_sample_to_plot)]\n",
        "orig_nii_path = condition_group_path + \"/\" + nii_sample_to_plot\n",
        "print(orig_nii_path)\n",
        "print(\"Number of slices in this CT scan:\", df_image_metadata[\"numberofslices\"].to_string(index=False))"
      ],
      "outputs": [
        {
          "output_type": "stream",
          "name": "stdout",
          "text": "/home/azureuser/cloudfiles/code/Users/sanson.poon/Data_CT_NIFTI/CT_NIFTI_full/normal/00000492.nii\nNumber of slices in this CT scan:  194\n"
        }
      ],
      "execution_count": 42,
      "metadata": {
        "jupyter": {
          "source_hidden": false,
          "outputs_hidden": false
        },
        "nteract": {
          "transient": {
            "deleting": false
          }
        },
        "gather": {
          "logged": 1665608627338
        }
      }
    },
    {
      "cell_type": "code",
      "source": [
        "# Set the cropping boundary (adjust to the ROI)\n",
        "######################## INPUT VALUES ##########################\n",
        "square_axi_YN   = \"Y\"       # the crop on the axial slice to be square [Y/N]\n",
        "LR_index        = \"L\"       # left/right part of the patient's body [\"L\":left or \"R\":right]\n",
        "crop_z          = [163,193] # Pixel value: z boundary, cyan boundaries (axial slice number)\n",
        "crop_x_min      = 185       # Pixel value: minimum pixel value for x boundary. Current set up is for 120 pixel in length for x-axis\n",
        "y_mid_point     = 256       # patient mid-point (y location of the middle of the backbone) Current set up is for 120 pixel in length for y-axis\n",
        "################################################################\n",
        "\n",
        "\n",
        "# To show the crop boundary of the CT scan. Change above input values to adjust boundaries to focus on the region of interest.\n",
        "crop_x          = [crop_x_min,crop_x_min+120] # Red boundaries\n",
        "if square_axi_YN == \"Y\": # square cropped axial slices\n",
        "    length_crop_x = crop_x[1]-crop_x[0]\n",
        "    if LR_index == \"R\":\n",
        "        crop_y = [y_mid_point-length_crop_x,y_mid_point] # Blue boundaries \n",
        "    else:\n",
        "        crop_y = [y_mid_point,y_mid_point+length_crop_x] # Blue boundaries\n",
        "else: # set crop y manually\n",
        "    if LR_index == \"R\":\n",
        "        crop_y = [150,275] # Blue boundaries \n",
        "    else:\n",
        "        crop_y = [256,408] # Blue boundaries\n",
        "\n",
        "# Position of localizer in pixel (localizer slice to show)\n",
        "# localizer_array = [175, 215, 200]\n",
        "\n",
        "# Get cropped image according to the set boundaries\n",
        "crop_array = [crop_x,crop_y,crop_z]\n",
        "image_3d_cropped, aff_3d, header_3d = crop_3dimage_n_plot(orig_nii_path, crop_array, localizer_array, manual_set_localizer=False)\n",
        "\n",
        "# Record the current crop array to the data\n",
        "crop_current_data = {'filename_nii':nii_sample_to_plot, \"adrenal_LR\":LR_index,'crop_x_min':crop_x[0], 'crop_x_max':crop_x[1], 'crop_y_min':crop_y[0], 'crop_y_max':crop_y[1], 'crop_z_min':crop_z[0], 'crop_z_max':crop_z[1]}\n",
        "df_crop_current = pd.DataFrame(data=crop_current_data, index=[0])\n",
        "df_crop = record_crop_array(\"CropArray_CT_NIFTI_full.csv\",crop_current_data)"
      ],
      "outputs": [],
      "execution_count": null,
      "metadata": {
        "jupyter": {
          "source_hidden": false,
          "outputs_hidden": false
        },
        "nteract": {
          "transient": {
            "deleting": false
          }
        },
        "gather": {
          "logged": 1665608764618
        },
        "collapsed": false
      }
    },
    {
      "cell_type": "markdown",
      "source": [
        "### df_crop\n",
        "\n",
        "The generated DataFrame `df_crop` (saved as `CropArray_CT_NIFTI_full.csv`) has the following format:\n",
        "\n",
        "| filename_nii | adrenal_LR | crop_x_min | crop_x_max | crop_y_min | crop_y_max | crop_z_min | crop_z_max |\n",
        "|:-------------|-----------:|-----------:|-----------:|-----------:|-----------:|-----------:|-----------:|\n",
        "|      xxx.nii |          L |        185 |        305 |        256 |        376 |        163 |        193 |\n",
        "|      xxx.nii |          R |        185 |        305 |        136 |        256 |        163 |        193 |\n",
        "|      yyy.nii |          L |        150 |        270 |        248 |        360 |         10 |         70 |\n",
        "|      yyy.nii |          R |        150 |        270 |        128 |        248 |         10 |         70 |\n",
        "\n",
        "where:\n",
        "- `filename_nii`: the name of the NIFTI filename_nii\n",
        "- `adrenal_LR`: Left (L) or right (R) adrenal gland\n",
        "- `crop_x_min`; `crop_x_max`; `crop_y_min`; `crop_y_max`; `crop_z_min`; `crop_z_max`: the boundaries of the region of interest (w.r.t. pixel values of the original CT scan).\n",
        "\n",
        "P.S. For this use case: (`crop_x_max` - `crop_x_min`) = (`crop_y_max` - `crop_y_min`) = 120 pixel.\n"
      ],
      "metadata": {
        "nteract": {
          "transient": {
            "deleting": false
          }
        }
      }
    },
    {
      "cell_type": "markdown",
      "source": [
        "## Plot all cropped axial slices of the CT scan\n",
        "To check if the whole adrenal glands are covered."
      ],
      "metadata": {
        "nteract": {
          "transient": {
            "deleting": false
          }
        }
      }
    },
    {
      "cell_type": "code",
      "source": [
        "image_3d_cropped_n = image_3d_cropped\n",
        "image_3d_cropped_n = normalise(image_3d_cropped,max_n=400,min_n=-200)\n",
        "plot_3d_ct_axi(image_3d_cropped_n)\n",
        "del image_3d_cropped_n"
      ],
      "outputs": [],
      "execution_count": null,
      "metadata": {
        "jupyter": {
          "source_hidden": false,
          "outputs_hidden": false
        },
        "nteract": {
          "transient": {
            "deleting": false
          }
        },
        "gather": {
          "logged": 1665608766245
        }
      }
    },
    {
      "cell_type": "markdown",
      "source": [
        "## Check cropping progress (w.r.t the dataset)"
      ],
      "metadata": {
        "nteract": {
          "transient": {
            "deleting": false
          }
        }
      }
    },
    {
      "cell_type": "code",
      "source": [
        "#check progress - no. left in normal and abnomal to process (NOT for normal+abnormal).\n",
        "all_name_list = []\n",
        "for i in range(len(listdir_nohidden(CT_NIFTI_full_path + \"normal\"))):\n",
        "    all_name_list.append(os.path.basename(listdir_nohidden(CT_NIFTI_full_path + \"normal\")[i]))\n",
        "for j in range(len(listdir_nohidden(CT_NIFTI_full_path + \"abnormal\"))):\n",
        "    all_name_list.append(os.path.basename(listdir_nohidden(CT_NIFTI_full_path + \"abnormal\")[j]))\n",
        "print(\"Total number of normal image:\", len(listdir_nohidden(CT_NIFTI_full_path + \"normal\")))\n",
        "print(\"Total number of abnormal image:\", len(listdir_nohidden(CT_NIFTI_full_path + \"abnormal\")))\n",
        "print(\"Image processed:\", len(set(df_crop[\"filename_nii\"])))"
      ],
      "outputs": [],
      "execution_count": null,
      "metadata": {
        "jupyter": {
          "source_hidden": false,
          "outputs_hidden": false
        },
        "nteract": {
          "transient": {
            "deleting": false
          }
        },
        "gather": {
          "logged": 1665608778615
        }
      }
    },
    {
      "cell_type": "markdown",
      "source": [
        "Example output for the progress check:\n",
        "```\n",
        "Total number of normal image: 183\n",
        "Total number of abnormal image: 87\n",
        "Image processed: 210\n",
        "```"
      ],
      "metadata": {
        "nteract": {
          "transient": {
            "deleting": false
          }
        }
      }
    },
    {
      "cell_type": "code",
      "source": [],
      "outputs": [],
      "execution_count": null,
      "metadata": {
        "jupyter": {
          "source_hidden": false,
          "outputs_hidden": false
        },
        "nteract": {
          "transient": {
            "deleting": false
          }
        }
      }
    }
  ],
  "metadata": {
    "kernelspec": {
      "name": "python38-azureml",
      "language": "python",
      "display_name": "Python 3.8 - AzureML"
    },
    "language_info": {
      "name": "python",
      "version": "3.8.5",
      "mimetype": "text/x-python",
      "codemirror_mode": {
        "name": "ipython",
        "version": 3
      },
      "pygments_lexer": "ipython3",
      "nbconvert_exporter": "python",
      "file_extension": ".py"
    },
    "microsoft": {
      "host": {
        "AzureML": {
          "notebookHasBeenCompleted": true
        }
      }
    },
    "nteract": {
      "version": "nteract-front-end@1.0.0"
    },
    "kernel_info": {
      "name": "python38-azureml"
    }
  },
  "nbformat": 4,
  "nbformat_minor": 2
}
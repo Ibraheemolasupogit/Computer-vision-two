{
  "cells": [
    {
      "cell_type": "markdown",
      "source": [
        "# 05_validation_25D_test_5fold.ipynb\n",
        "\n",
        "This script contain the validation process of the 2.5D 5-fold cross validation model on the independent test set. It generates the result on the publication. Operating point (obtained from the training and validation sets) is applied to the final classification on the CT scans. \n",
        "\n",
        "Required :\n",
        "- `test_5fold_df.csv` (generated from `03_model_25D_5fold.ipynb`).\n",
        "- `operating_point.out` (generated from `04_operatingpoint_trainval_25D_5fold.ipynb`)\n",
        "\n",
        "Generate:\n",
        "- the evaluation matrix of the independent test set, including:\n",
        "    - the confusion matrix\n",
        "    - the ROC curve\n",
        "    - accuracy, sensitivity, specificity, precision, PPV, and NPV\n",
        "    - 95% confidence interval (on 2.5D images)."
      ],
      "metadata": {
        "nteract": {
          "transient": {
            "deleting": false
          }
        }
      }
    },
    {
      "cell_type": "code",
      "source": [
        "import sys\n",
        "repo_dir = <PATH TO THIS REPO> # local path to this repo.\n",
        "sys.path.insert(0, repo_dir)"
      ],
      "outputs": [],
      "execution_count": null,
      "metadata": {
        "jupyter": {
          "source_hidden": false,
          "outputs_hidden": false
        },
        "nteract": {
          "transient": {
            "deleting": false
          }
        }
      }
    },
    {
      "cell_type": "code",
      "source": [
        "import pandas as pd\n",
        "import numpy as np\n",
        "import matplotlib.pylab as plt\n",
        "import math\n",
        "\n",
        "pd.set_option(\"display.max_columns\", 20)\n",
        "pd.set_option(\"display.max_colwidth\", 20)\n",
        "\n",
        "# utilitiy files located in the src folder\n",
        "from src.util_analysis import analysis_1fold, analysis_1fold_95CT\n",
        "from src.util_analysis import get_df_image_performance"
      ],
      "outputs": [],
      "execution_count": 1,
      "metadata": {
        "jupyter": {
          "source_hidden": false,
          "outputs_hidden": false
        },
        "nteract": {
          "transient": {
            "deleting": false
          }
        },
        "gather": {
          "logged": 1672162660160
        }
      }
    },
    {
      "cell_type": "code",
      "source": [
        "# load the value of the operating point\n",
        "op = np.loadtxt('operating_point.out').tolist()\n",
        "# load the model predictions of the test set\n",
        "test_df = pd.read_csv(\"test_5fold_df.csv\") \n",
        "# get 2.5D slice number w.r.t the CT scans\n",
        "slicenumber_list = []\n",
        "for i in range(len(test_df)):\n",
        "    slicenumber_list.append(int((os.path.splitext(test_df.jpeg_name[i])[0]).split(\"_\")[1]))\n",
        "test_df[\"slicenumber\"] = slicenumber_list\n",
        "df = test_df.sort_values([\"PatientName\",\"image_name\",\"slicenumber\"], ascending=[True, True, True]).reset_index(drop=True)"
      ],
      "outputs": [],
      "execution_count": 2,
      "metadata": {
        "jupyter": {
          "source_hidden": false,
          "outputs_hidden": false
        },
        "nteract": {
          "transient": {
            "deleting": false
          }
        },
        "gather": {
          "logged": 1672162660228
        }
      }
    },
    {
      "cell_type": "markdown",
      "source": [
        "### Make predictions by combining the 5 models predictions (from the 5-fold cross validation)"
      ],
      "metadata": {
        "nteract": {
          "transient": {
            "deleting": false
          }
        }
      }
    },
    {
      "cell_type": "code",
      "source": [
        "# 5-fold cross validation combined prediction\n",
        "df[\"test_prediction_5fold\"] = df.apply(lambda x: np.average([x.test_prediction_model_fold1, x.test_prediction_model_fold2, x.test_prediction_model_fold3, x.test_prediction_model_fold4, x.test_prediction_model_fold5]), axis=1)\n",
        "df[\"predicted_classes_avg_5fold\"] = df.apply(lambda x: np.average([x.predicted_classes_model_fold1, x.predicted_classes_model_fold2, x.predicted_classes_model_fold3, x.predicted_classes_model_fold4, x.predicted_classes_model_fold5]), axis=1)\n",
        "df[\"predicted_classes_5fold\"] = np.where(df[\"predicted_classes_avg_5fold\"]<0.5,0,1)"
      ],
      "outputs": [],
      "execution_count": 3,
      "metadata": {
        "jupyter": {
          "source_hidden": false,
          "outputs_hidden": false
        },
        "nteract": {
          "transient": {
            "deleting": false
          }
        },
        "gather": {
          "logged": 1672162660318
        }
      }
    },
    {
      "cell_type": "markdown",
      "source": [
        "### Analysing the 5-fold prediction on the test set (in the unit of 2.5D images).\n",
        "\n",
        "With 95% confidence interval. "
      ],
      "metadata": {
        "nteract": {
          "transient": {
            "deleting": false
          }
        }
      }
    },
    {
      "cell_type": "code",
      "source": [
        "# load predictions from the DataFrame in the unit of 2.5D images\n",
        "predicted_classes_5fold = np.array(df.predicted_classes_5fold, dtype=int)\n",
        "test_prediction_5fold = np.array(df.test_prediction_5fold, dtype=float)\n",
        "# load ground truth from the DataFrame in the unit of 2.5D images\n",
        "true_classes = np.array(df.abnormal, dtype=int)\n",
        "class_labels = ['Normal','Abnormal'] # label 0 = Normal; 1 = Abnormal"
      ],
      "outputs": [],
      "execution_count": 4,
      "metadata": {
        "jupyter": {
          "source_hidden": false,
          "outputs_hidden": false
        },
        "nteract": {
          "transient": {
            "deleting": false
          }
        },
        "gather": {
          "logged": 1672162660380
        }
      }
    },
    {
      "cell_type": "code",
      "source": [
        "# analysing the prediction (with 95% confidence interval)\n",
        "analysis_1fold_95CT(true_classes,class_labels,test_prediction_5fold,predicted_classes_5fold,nsample=5000)"
      ],
      "outputs": [],
      "execution_count": null,
      "metadata": {
        "jupyter": {
          "source_hidden": false,
          "outputs_hidden": false
        },
        "nteract": {
          "transient": {
            "deleting": false
          }
        },
        "gather": {
          "logged": 1672162671880
        }
      }
    },
    {
      "cell_type": "markdown",
      "source": [
        "### Analysing the 5-fold prediction on the test set (in the unit of CT scans)."
      ],
      "metadata": {
        "nteract": {
          "transient": {
            "deleting": false
          }
        }
      }
    },
    {
      "cell_type": "code",
      "source": [
        "# load predictions from the DataFrame in the unit of CT scans\n",
        "df_image_performance = get_df_image_performance(df,op)"
      ],
      "outputs": [],
      "execution_count": 6,
      "metadata": {
        "jupyter": {
          "source_hidden": false,
          "outputs_hidden": false
        },
        "nteract": {
          "transient": {
            "deleting": false
          }
        },
        "gather": {
          "logged": 1672162672404
        }
      }
    },
    {
      "cell_type": "code",
      "source": [
        "# Get most likely class from the prodictions\n",
        "test_prediction_avg_ct = df_image_performance.img_test_prediction_avg_5fold\n",
        "predicted_classes_avg_ct = np.array(df_image_performance.img_predicted_classes_avg_5fold)\n",
        "predicted_classes_ct = np.array(df_image_performance.img_predicted_classes_5fold, dtype=int)\n",
        "# load ground truth from the DataFrame in the unit of CT scans\n",
        "true_classes_ct = np.array(df_image_performance.abnormal, dtype=int)\n",
        "class_labels_ct = ['Normal','Abnormal'] # label 0 = Normal; 1 = Abnormal"
      ],
      "outputs": [],
      "execution_count": 7,
      "metadata": {
        "jupyter": {
          "source_hidden": false,
          "outputs_hidden": false
        },
        "nteract": {
          "transient": {
            "deleting": false
          }
        },
        "gather": {
          "logged": 1672162672485
        }
      }
    },
    {
      "cell_type": "code",
      "source": [
        "# analysing the prediction \n",
        "analysis_1fold(true_classes_ct,class_labels_ct,test_prediction_avg_ct,predicted_classes_ct)"
      ],
      "outputs": [],
      "execution_count": null,
      "metadata": {
        "jupyter": {
          "source_hidden": false,
          "outputs_hidden": false
        },
        "nteract": {
          "transient": {
            "deleting": false
          }
        },
        "gather": {
          "logged": 1672162672889
        }
      }
    },
    {
      "cell_type": "code",
      "source": [],
      "outputs": [],
      "execution_count": null,
      "metadata": {
        "jupyter": {
          "source_hidden": false,
          "outputs_hidden": false
        },
        "nteract": {
          "transient": {
            "deleting": false
          }
        }
      }
    }
  ],
  "metadata": {
    "kernelspec": {
      "name": "python38-azureml",
      "language": "python",
      "display_name": "Python 3.8 - AzureML"
    },
    "language_info": {
      "name": "python",
      "version": "3.8.5",
      "mimetype": "text/x-python",
      "codemirror_mode": {
        "name": "ipython",
        "version": 3
      },
      "pygments_lexer": "ipython3",
      "nbconvert_exporter": "python",
      "file_extension": ".py"
    },
    "kernel_info": {
      "name": "python38-azureml"
    },
    "microsoft": {
      "host": {
        "AzureML": {
          "notebookHasBeenCompleted": true
        }
      }
    },
    "nteract": {
      "version": "nteract-front-end@1.0.0"
    }
  },
  "nbformat": 4,
  "nbformat_minor": 2
}
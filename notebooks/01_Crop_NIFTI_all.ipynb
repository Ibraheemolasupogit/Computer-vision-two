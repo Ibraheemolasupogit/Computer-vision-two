{
  "cells": [
    {
      "cell_type": "markdown",
      "source": [
        "# 01_Crop_NIFTI_all.ipynb\n",
        "\n",
        "This script crop all the NIFTI images listed in the crop array (`CropArray_CT_NIFTI_full.csv`) and generate the cropped NIFTI files. \n",
        "\n",
        "The crop array gives the pixel values (cropped volume) a size of $120\\times120\\times n$ (for one adrenal gland). Combining the left and right adrenals in one volume would gives a volume of $240\\times120\\times n$. Where $n$ is the number of axial slices that covered the whole (both left and right) adrenal glands.\n",
        "\n",
        "All generate the cropped NIFTI files are saved in the folder: `CT_data/CT_NIFTI_cropped_combineLR`.\n",
        "\n",
        "Required files:\n",
        "- `DICOM_Data.csv`\n",
        "- `CropArray_CT_NIFTI_full.csv`\n",
        "\n",
        "Generate:\n",
        "- Cropped NIFTI files"
      ],
      "metadata": {
        "nteract": {
          "transient": {
            "deleting": false
          }
        }
      }
    },
    {
      "cell_type": "code",
      "source": [
        "import sys\n",
        "repo_dir = <PATH TO THIS REPO> # local path to this repo.\n",
        "sys.path.insert(0, repo_dir)"
      ],
      "outputs": [],
      "execution_count": null,
      "metadata": {
        "jupyter": {
          "source_hidden": false,
          "outputs_hidden": false
        },
        "nteract": {
          "transient": {
            "deleting": false
          }
        }
      }
    },
    {
      "cell_type": "code",
      "source": [
        "import os\n",
        "import pandas as pd\n",
        "import numpy as np\n",
        "from tqdm import tqdm\n",
        "\n",
        "# utilitiy files located in the src folder\n",
        "from src.util_image import crop_3dimage, save_crop_3d"
      ],
      "outputs": [],
      "execution_count": 1,
      "metadata": {
        "gather": {
          "logged": 1665609177081
        }
      }
    },
    {
      "cell_type": "code",
      "source": [
        "# locating the folder paths used in this script.\n",
        "work_dir = <PATH TO project_dir> # path to the directory of the current project (project master path)\n",
        "data_folder_path = work_dir + \"CT_data/\"\n",
        "CT_NIFTI_full_path = data_folder_path + \"CT_NIFTI_full/\"\n",
        "targetpath = data_folder_path + \"CT_NIFTI_cropped_combineLR/\"\n",
        "df_crop = pd.read_csv(CT_NIFTI_full_path+\"CropArray_CT_NIFTI_fullimage.csv\",index_col=0)\n",
        "df_dicom = pd.read_csv(data_folder_path+\"DICOM_Data.csv\")"
      ],
      "outputs": [],
      "execution_count": 2,
      "metadata": {
        "jupyter": {
          "source_hidden": false,
          "outputs_hidden": false
        },
        "nteract": {
          "transient": {
            "deleting": false
          }
        },
        "gather": {
          "logged": 1665609177581
        }
      }
    },
    {
      "cell_type": "code",
      "source": [
        "# get the list of files to process for the cropping\n",
        "process_list = list(set(df_crop[\"filename_nii\"]))"
      ],
      "outputs": [],
      "execution_count": 3,
      "metadata": {
        "jupyter": {
          "source_hidden": false,
          "outputs_hidden": false
        },
        "nteract": {
          "transient": {
            "deleting": false
          }
        },
        "gather": {
          "logged": 1665609177642
        }
      }
    },
    {
      "cell_type": "markdown",
      "source": [
        "### Crop the NIFTI images included in the process_list\n",
        "\n",
        "Cropped NIFTI images to save in `targetpath`."
      ],
      "metadata": {
        "nteract": {
          "transient": {
            "deleting": false
          }
        }
      }
    },
    {
      "cell_type": "code",
      "source": [
        "for filename in tqdm(process_list):\n",
        "    # Get cropped image according to the set boundaries\n",
        "    df_current = df_crop[df_crop[\"filename_nii\"]==filename]\n",
        "    patient_state = df_dicom[df_dicom[\"filename_3d\"]==filename.replace('.nii','')].normal_patient.array[0]\n",
        "    filepath = CT_NIFTI_full_path + patient_state + \"/\" + filename\n",
        "    for side in df_current.adrenal_LR:\n",
        "        df_current_LR = df_current[df_current[\"adrenal_LR\"]==side]\n",
        "        crop_x = [df_current_LR.crop_x_min.values[0], df_current_LR.crop_x_max.values[0]]\n",
        "        crop_y = [df_current_LR.crop_y_min.values[0], df_current_LR.crop_y_max.values[0]]\n",
        "        crop_z = [df_current_LR.crop_z_min.values[0], df_current_LR.crop_z_max.values[0]]\n",
        "        crop_array = [crop_x,crop_y,crop_z]\n",
        "        if side == \"L\":\n",
        "            image_3d_cropped_L, aff_3d, header_3d = crop_3dimage(filepath, crop_array)\n",
        "        else:\n",
        "            image_3d_cropped_R, aff_3d, header_3d = crop_3dimage(filepath, crop_array)\n",
        "    try:\n",
        "        image_3d_cropped = np.concatenate([image_3d_cropped_R, image_3d_cropped_L])\n",
        "        save_crop_3d(filename, targetpath, image_3d_cropped, aff_3d, header_3d)\n",
        "    except:\n",
        "        print(filename)"
      ],
      "outputs": [],
      "execution_count": null,
      "metadata": {
        "jupyter": {
          "source_hidden": false,
          "outputs_hidden": false
        },
        "nteract": {
          "transient": {
            "deleting": false
          }
        },
        "gather": {
          "logged": 1665610514594
        }
      }
    },
    {
      "cell_type": "code",
      "source": [],
      "outputs": [],
      "execution_count": null,
      "metadata": {
        "jupyter": {
          "source_hidden": false,
          "outputs_hidden": false
        },
        "nteract": {
          "transient": {
            "deleting": false
          }
        }
      }
    }
  ],
  "metadata": {
    "kernelspec": {
      "display_name": "Python 3.8 - AzureML",
      "language": "python",
      "name": "python38-azureml"
    },
    "language_info": {
      "name": "python",
      "version": "3.8.5",
      "mimetype": "text/x-python",
      "codemirror_mode": {
        "name": "ipython",
        "version": 3
      },
      "pygments_lexer": "ipython3",
      "nbconvert_exporter": "python",
      "file_extension": ".py"
    },
    "nteract": {
      "version": "nteract-front-end@1.0.0"
    },
    "microsoft": {
      "host": {
        "AzureML": {
          "notebookHasBeenCompleted": true
        }
      }
    }
  },
  "nbformat": 4,
  "nbformat_minor": 2
}
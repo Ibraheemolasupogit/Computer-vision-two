{
  "cells": [
    {
      "cell_type": "markdown",
      "source": [
        "# 00_DICOM_DataFrame.ipynb\n",
        "\n",
        "This notebook:\n",
        "- extract the metadata of the orginal CT scans and save in `CT_data/DICOM_Data.csv`, and\n",
        "- get the binary label (abnormal/normal) for the converted NIFTI files and save in `CT_data/label.csv`. "
      ],
      "metadata": {
        "nteract": {
          "transient": {
            "deleting": false
          }
        }
      }
    },
    {
      "cell_type": "code",
      "source": [
        "import numpy as np\n",
        "import pandas as pd\n",
        "import matplotlib.pyplot as plt\n",
        "import pydicom\n",
        "from pydicom import dcmread\n",
        "from pydicom.data import get_testdata_files\n",
        "import glob\n",
        "import os\n",
        "from collections import defaultdict\n",
        "import tqdm\n",
        "import gc\n",
        "import seaborn as sns\n",
        "import ast\n",
        "\n",
        "pd.set_option(\"display.max_columns\", None)\n",
        "pd.set_option(\"display.max_colwidth\", 100)\n",
        "\n",
        "# Utilitiy files located in the src folder\n",
        "from src.util_data import listdir_nohidden"
      ],
      "outputs": [],
      "execution_count": 1,
      "metadata": {
        "gather": {
          "logged": 1665701091942
        }
      }
    },
    {
      "cell_type": "code",
      "source": [
        "work_dir = <PATH TO project_dir> # path to the directory of the current project (project master path)\n",
        "raw_data_dir = work_dir + 'raw_data/' # path to original DICOM dataset\n",
        "targetpath = work_dir + 'CT_data/' # path to the converted converted dataset "
      ],
      "outputs": [],
      "execution_count": 2,
      "metadata": {
        "jupyter": {
          "source_hidden": false,
          "outputs_hidden": false
        },
        "nteract": {
          "transient": {
            "deleting": false
          }
        },
        "gather": {
          "logged": 1665701091999
        }
      }
    },
    {
      "cell_type": "markdown",
      "source": [
        "## Prepare for metadata extraction"
      ],
      "metadata": {
        "nteract": {
          "transient": {
            "deleting": false
          }
        }
      }
    },
    {
      "cell_type": "code",
      "source": [
        "# Column name to extract from the DICOM files. (PixelData is excluded)\n",
        "col_name = ['AccessionNumber',\n",
        "            'AcquisitionNumber',\n",
        "            'BitsAllocated',\n",
        "            'BitsStored',\n",
        "            'BodyPartExamined',\n",
        "            'CTDIPhantomTypeCodeSequence',\n",
        "            'CTDIvol',\n",
        "            'Columns',\n",
        "            'ContentDate',\n",
        "            'ContentTime',\n",
        "            'ContrastBolusAgent',\n",
        "            'ContrastBolusIngredientConcentration',\n",
        "            'ContrastBolusStartTime',\n",
        "            'ContrastBolusStopTime',\n",
        "            'ContrastBolusTotalDose',\n",
        "            'ContrastBolusVolume',\n",
        "            'ContrastFlowDuration',\n",
        "            'ContrastFlowRate',\n",
        "            'ConvolutionKernel',\n",
        "            'DataCollectionCenterPatient',\n",
        "            'DataCollectionDiameter',\n",
        "            'DateOfLastCalibration',\n",
        "            'DistanceSourceToDetector',\n",
        "            'DistanceSourceToPatient',\n",
        "            'EstimatedDoseSaving',\n",
        "            'Exposure',\n",
        "            'ExposureModulationType',\n",
        "            'ExposureTime',\n",
        "            'FilterType',\n",
        "            'FocalSpots',\n",
        "            'FrameOfReferenceUID',\n",
        "            'GantryDetectorTilt',\n",
        "            'GeneratorPower',\n",
        "            'HighBit',\n",
        "            'ImageOrientationPatient',\n",
        "            'ImagePositionPatient',\n",
        "            'ImageType',\n",
        "            'InstanceNumber',\n",
        "            'IrradiationEventUID',\n",
        "            'IssuerOfPatientID',\n",
        "            'KVP',\n",
        "            'LargestImagePixelValue',\n",
        "            'Manufacturer',\n",
        "            'ManufacturerModelName',\n",
        "            'Modality',\n",
        "            'PatientBirthDate',\n",
        "            'PatientID',\n",
        "            'PatientName',\n",
        "            'PatientPosition',\n",
        "            'PatientSex',\n",
        "            'PhotometricInterpretation',\n",
        "            # 'PixelData',\n",
        "            'PixelRepresentation',\n",
        "            'PixelSpacing',\n",
        "            'PositionReferenceIndicator',\n",
        "            'ReconstructionDiameter',\n",
        "            'ReconstructionTargetCenterPatient',\n",
        "            'ReferringPhysicianName',\n",
        "            'RescaleIntercept',\n",
        "            'RescaleSlope',\n",
        "            'RescaleType',\n",
        "            'RotationDirection',\n",
        "            'Rows',\n",
        "            'SOPClassUID',\n",
        "            'SOPInstanceUID',\n",
        "            'SamplesPerPixel',\n",
        "            'SeriesInstanceUID',\n",
        "            'SeriesNumber',\n",
        "            'SingleCollimationWidth',\n",
        "            'SliceLocation',\n",
        "            'SliceThickness',\n",
        "            'SmallestImagePixelValue',\n",
        "            'SoftwareVersions',\n",
        "            'SpecificCharacterSet',\n",
        "            'SpiralPitchFactor',\n",
        "            'StudyDate',\n",
        "            'StudyID',\n",
        "            'StudyInstanceUID',\n",
        "            'StudyTime',\n",
        "            'TableFeedPerRotation',\n",
        "            'TableHeight',\n",
        "            'TableSpeed',\n",
        "            'TimeOfLastCalibration',\n",
        "            'TotalCollimationWidth',\n",
        "            'WindowCenter',\n",
        "            'WindowCenterWidthExplanation',\n",
        "            'WindowWidth',\n",
        "            'XRayTubeCurrent']"
      ],
      "outputs": [],
      "execution_count": 4,
      "metadata": {
        "gather": {
          "logged": 1665701092140
        }
      }
    },
    {
      "cell_type": "code",
      "source": [
        "df = pd.DataFrame(columns=col_name)\n",
        "my_dict = defaultdict(list)"
      ],
      "outputs": [],
      "execution_count": 5,
      "metadata": {
        "gather": {
          "logged": 1665701092287
        }
      }
    },
    {
      "cell_type": "code",
      "source": [
        "numberofslices_list = []\n",
        "location_orig_list = []\n",
        "series_list = []\n",
        "basename1_list = []\n",
        "basename2_list = []\n",
        "basename3_list = []\n",
        "normal_pat_list = []"
      ],
      "outputs": [],
      "execution_count": 6,
      "metadata": {
        "gather": {
          "logged": 1665701092340
        }
      }
    },
    {
      "cell_type": "markdown",
      "source": [
        "## Extract the metadata from each CT scan"
      ],
      "metadata": {
        "nteract": {
          "transient": {
            "deleting": false
          }
        }
      }
    },
    {
      "cell_type": "code",
      "source": [
        "for series_path in tqdm.tqdm(glob.glob(raw_data_dir+'*/*/DICOM/*/*/*/*')):\n",
        "    name = listdir_nohidden(series_path)[0] # Get 1 DICOM path within the CT scan\n",
        "    ds = pydicom.read_file(name)\n",
        "    for i in col_name :\n",
        "        if i in ds :\n",
        "            my_dict[i].append(str(ds[i].value))\n",
        "        else:\n",
        "            my_dict[i].append(np.nan)\n",
        "    df = pd.concat([df, pd.DataFrame(my_dict)], ignore_index = True)\n",
        "    del my_dict\n",
        "    number_of_slices = len(listdir_nohidden(series_path))\n",
        "    normal_pat = series_path.split(\"/\")[-7]\n",
        "    basename1 = series_path.split(\"/\")[-4]\n",
        "    basename2 = series_path.split(\"/\")[-3]\n",
        "    basename3 = series_path.split(\"/\")[-2]\n",
        "    series = os.path.basename(series_path)\n",
        "    numberofslices_list.append(number_of_slices)\n",
        "    location_orig_list.append(series_path)\n",
        "    series_list.append(series)\n",
        "    normal_pat_list.append(normal_pat)\n",
        "    basename1_list.append(basename1)\n",
        "    basename2_list.append(basename2)\n",
        "    basename3_list.append(basename3)\n",
        "    my_dict = defaultdict(list)\n",
        "gc.collect()"
      ],
      "outputs": [],
      "execution_count": null,
      "metadata": {
        "gather": {
          "logged": 1665701195720
        }
      }
    },
    {
      "cell_type": "code",
      "source": [
        "df[\"numberofslices\"]=numberofslices_list\n",
        "df[\"path_to_orig_series\"]=location_orig_list\n",
        "df[\"basename1\"]=basename1_list\n",
        "df[\"basename2\"]=basename2_list\n",
        "df[\"basename3\"]=basename3_list\n",
        "df[\"normal_patient\"]=normal_pat_list\n",
        "df[\"filename_3d\"]=series_list"
      ],
      "outputs": [],
      "execution_count": 9,
      "metadata": {
        "gather": {
          "logged": 1665701195784
        }
      }
    },
    {
      "cell_type": "markdown",
      "source": [
        "Get the number of CT scans (stacks of DICOM file)."
      ],
      "metadata": {
        "nteract": {
          "transient": {
            "deleting": false
          }
        }
      }
    },
    {
      "cell_type": "code",
      "source": [
        "number_of_dicom = len(df)\n",
        "print(\"Number of dicom stacks in the dataset: \", number_of_dicom)"
      ],
      "outputs": [],
      "execution_count": null,
      "metadata": {
        "gather": {
          "logged": 1665701195926
        }
      }
    },
    {
      "cell_type": "markdown",
      "source": [
        "### Record labels that are not directly obtained from the DICOM files.\n",
        "\n",
        "The metadata of this parameters are saved in a list. Relocating them in individual column.\n",
        "\n",
        "- imagetype1: ORIGINAL\n",
        "- imagetype3: PRIMARY / SECONDARY\n",
        "- imagetype3: AXIAL / LOCALIZER"
      ],
      "metadata": {
        "nteract": {
          "transient": {
            "deleting": false
          }
        }
      }
    },
    {
      "cell_type": "code",
      "source": [
        "imagetype_1_list=[]\n",
        "imagetype_2_list=[]\n",
        "imagetype_3_list=[]\n",
        "for i in tqdm.tqdm(range(number_of_dicom)):\n",
        "    img_type = ast.literal_eval(df.ImageType[i])\n",
        "    if len(img_type) >= 3:\n",
        "        imagetype_1_list.append(img_type[0])\n",
        "        imagetype_2_list.append(img_type[1])\n",
        "        imagetype_3_list.append(img_type[2])\n",
        "    elif len(img_type) == 2:\n",
        "        imagetype_1_list.append(img_type[0])\n",
        "        imagetype_2_list.append(img_type[1])\n",
        "        imagetype_3_list.append('problemInput')\n",
        "    \n",
        "df[\"imagetype_1\"]=imagetype_1_list\n",
        "df[\"imagetype_2\"]=imagetype_2_list\n",
        "df[\"imagetype_3\"]=imagetype_3_list"
      ],
      "outputs": [],
      "execution_count": null,
      "metadata": {
        "gather": {
          "logged": 1665701195986
        }
      }
    },
    {
      "cell_type": "code",
      "source": [
        "# save the metadata to csv\n",
        "df.to_csv(targetpath + 'DICOM_Data.csv',index=False)"
      ],
      "outputs": [],
      "execution_count": 16,
      "metadata": {
        "gather": {
          "logged": 1665701196365
        }
      }
    },
    {
      "cell_type": "markdown",
      "source": [
        "## Get abnormal labels\n",
        "\n",
        "Generate the `label.csv`. The format is:\n",
        "\n",
        "| PatientName |   image_name | abnormal |\n",
        "|:------------|-------------:|---------:|\n",
        "|    Patient1 |      xxx.nii |        1 |\n",
        "|    Patient1 |      yyy.nii |        1 |\n",
        "|    Patient2 |      zzz.nii |        0 |\n",
        "\n",
        "where `Patient 1` has two CT scans (`xxx.nii` and `yyy.nii`) labeled as abnormal (1) and `Patient 2` has one CT scans (`zzz.nii`) labeled as normal (0) in the dataset. "
      ],
      "metadata": {
        "nteract": {
          "transient": {
            "deleting": false
          }
        }
      }
    },
    {
      "cell_type": "code",
      "source": [
        "df_label = df[[\"PatientName\",\"filename_3d\",\"normal_patient\"]]\n",
        "\n",
        "abnormal_map = {'normal':0, 'abnormal':1} \n",
        "df_label[\"abnormal\"] = df_label[\"normal_patient\"].map(abnormal_map)\n",
        "\n",
        "df_label[\"add_str_column\"] = \".nii\"\n",
        "df_label[\"image_name\"] = df_label[\"filename_3d\"].str.cat(df_label[\"add_str_column\"],sep=\"\")\n",
        "df_label = df_label[[\"PatientName\",\"image_name\",\"abnormal\"]]\n",
        "\n",
        "#save the table as label.csv\n",
        "df_label.to_csv(targetpath + 'label.csv',index=False)"
      ],
      "outputs": [],
      "execution_count": null,
      "metadata": {
        "jupyter": {
          "source_hidden": false,
          "outputs_hidden": false
        },
        "nteract": {
          "transient": {
            "deleting": false
          }
        },
        "gather": {
          "logged": 1665701196670
        }
      }
    },
    {
      "cell_type": "code",
      "source": [],
      "outputs": [],
      "execution_count": null,
      "metadata": {
        "jupyter": {
          "source_hidden": false,
          "outputs_hidden": false
        },
        "nteract": {
          "transient": {
            "deleting": false
          }
        }
      }
    }
  ],
  "metadata": {
    "kernelspec": {
      "name": "python38-azureml",
      "language": "python",
      "display_name": "Python 3.8 - AzureML"
    },
    "language_info": {
      "name": "python",
      "version": "3.8.5",
      "mimetype": "text/x-python",
      "codemirror_mode": {
        "name": "ipython",
        "version": 3
      },
      "pygments_lexer": "ipython3",
      "nbconvert_exporter": "python",
      "file_extension": ".py"
    },
    "nteract": {
      "version": "nteract-front-end@1.0.0"
    },
    "microsoft": {
      "host": {
        "AzureML": {
          "notebookHasBeenCompleted": true
        }
      }
    },
    "kernel_info": {
      "name": "python38-azureml"
    }
  },
  "nbformat": 4,
  "nbformat_minor": 2
}
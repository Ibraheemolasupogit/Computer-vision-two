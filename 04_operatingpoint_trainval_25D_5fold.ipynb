{
  "cells": [
    {
      "cell_type": "markdown",
      "source": [
        "# 04_operatingpoint_trainval_25D_5fold.ipynb\n",
        "\n",
        "This script contain the process to calculate the operating point for the 3D CT scans from 2.5D images. The value of the operating point calculated here ONLY obtained from the training and validation set. The independent test set is remain unseen in this process.\n",
        "\n",
        "Required :\n",
        "- `trainval_5fold_df.csv` (generated from `03_model_25D_5fold.ipynb`).\n",
        "\n",
        "Generate:\n",
        "- the value of the operating point (saved in `operating_point.out`)."
      ],
      "metadata": {
        "nteract": {
          "transient": {
            "deleting": false
          }
        }
      }
    },
    {
      "cell_type": "code",
      "source": [
        "import pandas as pd\n",
        "import numpy as np\n",
        "import matplotlib.pylab as plt\n",
        "import math\n",
        "import tqdm\n",
        "\n",
        "pd.set_option(\"display.max_columns\", 20)\n",
        "pd.set_option(\"display.max_colwidth\", 20)\n",
        "\n",
        "# utilitiy files located in the src folder\n",
        "from src.util_analysis import cal_best_op"
      ],
      "outputs": [],
      "execution_count": 1,
      "metadata": {
        "jupyter": {
          "source_hidden": false,
          "outputs_hidden": false
        },
        "nteract": {
          "transient": {
            "deleting": false
          }
        },
        "gather": {
          "logged": 1672161428157
        }
      }
    },
    {
      "cell_type": "code",
      "source": [
        "# load the model predictions of the training-validation set\n",
        "trainval_df = pd.read_csv(\"trainval_5fold_df.csv\") \n",
        "# get 2.5D slice number w.r.t the CT scans\n",
        "slicenumber_list = []\n",
        "for i in range(len(trainval_df)):\n",
        "    slicenumber_list.append(int((os.path.splitext(trainval_df.jpeg_name[i])[0]).split(\"_\")[1]))\n",
        "trainval_df[\"slicenumber\"] = slicenumber_list\n",
        "df = trainval_df.sort_values([\"PatientName\",\"image_name\",\"slicenumber\"], ascending=[True, True, True]).reset_index(drop=True)"
      ],
      "outputs": [],
      "execution_count": 2,
      "metadata": {
        "jupyter": {
          "source_hidden": false,
          "outputs_hidden": false
        },
        "nteract": {
          "transient": {
            "deleting": false
          }
        },
        "gather": {
          "logged": 1672161428549
        }
      }
    },
    {
      "cell_type": "markdown",
      "source": [
        "### Make predictions by combining the 5 models predictions (from the 5-fold cross validation)"
      ],
      "metadata": {
        "nteract": {
          "transient": {
            "deleting": false
          }
        }
      }
    },
    {
      "cell_type": "code",
      "source": [
        "# 5-fold cross validation combined prediction\n",
        "df[\"test_prediction_5fold\"] = df.apply(lambda x: np.average([x.test_prediction_model_fold1, x.test_prediction_model_fold2, x.test_prediction_model_fold3, x.test_prediction_model_fold4, x.test_prediction_model_fold5]), axis=1)\n",
        "df[\"predicted_classes_avg_5fold\"] = df.apply(lambda x: np.average([x.predicted_classes_model_fold1, x.predicted_classes_model_fold2, x.predicted_classes_model_fold3, x.predicted_classes_model_fold4, x.predicted_classes_model_fold5]), axis=1)\n",
        "df[\"predicted_classes_5fold\"] = np.where(df[\"predicted_classes_avg_5fold\"]<0.5,0,1) # abnoraml if the majority of the folds predicted abnormal."
      ],
      "outputs": [],
      "execution_count": 3,
      "metadata": {
        "jupyter": {
          "source_hidden": false,
          "outputs_hidden": false
        },
        "nteract": {
          "transient": {
            "deleting": false
          }
        },
        "gather": {
          "logged": 1672161430280
        }
      }
    },
    {
      "cell_type": "code",
      "source": [
        "# set grid search range for the operating value\n",
        "search_range = np.arange(0.0125,1.0,0.0125)\n",
        "# optain the best operating value from the training and validation set.\n",
        "op_for_best_acc = cal_best_op(df, search_range)\n",
        "# save the best operating point in operating_point.out\n",
        "np.savetxt('operating_point.out', [op_for_best_acc], fmt='%.4f')"
      ],
      "outputs": [],
      "execution_count": null,
      "metadata": {
        "jupyter": {
          "source_hidden": false,
          "outputs_hidden": false
        },
        "nteract": {
          "transient": {
            "deleting": false
          }
        },
        "gather": {
          "logged": 1672161467010
        }
      }
    },
    {
      "cell_type": "markdown",
      "source": [
        "Expected output:\n",
        "- plot of operating point ($x$-axis) vs accuracy score on CT scan ($y$-axis)\n",
        "- value of the operating point that gives the best accuracy score on CT scan"
      ],
      "metadata": {
        "nteract": {
          "transient": {
            "deleting": false
          }
        }
      }
    },
    {
      "cell_type": "code",
      "source": [],
      "outputs": [],
      "execution_count": null,
      "metadata": {
        "jupyter": {
          "source_hidden": false,
          "outputs_hidden": false
        },
        "nteract": {
          "transient": {
            "deleting": false
          }
        }
      }
    }
  ],
  "metadata": {
    "kernelspec": {
      "name": "python38-azureml",
      "language": "python",
      "display_name": "Python 3.8 - AzureML"
    },
    "language_info": {
      "name": "python",
      "version": "3.8.5",
      "mimetype": "text/x-python",
      "codemirror_mode": {
        "name": "ipython",
        "version": 3
      },
      "pygments_lexer": "ipython3",
      "nbconvert_exporter": "python",
      "file_extension": ".py"
    },
    "kernel_info": {
      "name": "python38-azureml"
    },
    "microsoft": {
      "host": {
        "AzureML": {
          "notebookHasBeenCompleted": true
        }
      }
    },
    "nteract": {
      "version": "nteract-front-end@1.0.0"
    }
  },
  "nbformat": 4,
  "nbformat_minor": 2
}